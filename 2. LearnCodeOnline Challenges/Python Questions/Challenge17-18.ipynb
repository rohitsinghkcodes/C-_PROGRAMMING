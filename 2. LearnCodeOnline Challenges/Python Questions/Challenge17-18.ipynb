{
 "cells": [
  {
   "cell_type": "markdown",
   "metadata": {},
   "source": [
    "# Challenge 17"
   ]
  },
  {
   "cell_type": "code",
   "execution_count": 44,
   "metadata": {},
   "outputs": [],
   "source": [
    "str = 'Aman Ankit Deepak Arjun Nakul Aman Priyanshu Vansh Rajat Sagar'\n",
    "lst = str.split(\" \")\n",
    "lst\n",
    "lst2 = []"
   ]
  },
  {
   "cell_type": "code",
   "execution_count": 45,
   "metadata": {},
   "outputs": [
    {
     "name": "stdout",
     "output_type": "stream",
     "text": [
      "Aman\n",
      "Duplicacy Found in names\n"
     ]
    }
   ],
   "source": [
    "for i in lst:\n",
    "    if i in lst2:\n",
    "        print(i)\n",
    "    else:\n",
    "        lst2.append(i)\n",
    "if(len(lst2)==len(lst)):\n",
    "    print('No duplicacy Found in names')\n",
    "else:\n",
    "    print('Duplicacy Found in names')"
   ]
  },
  {
   "cell_type": "markdown",
   "metadata": {},
   "source": [
    "# Challenge 18"
   ]
  },
  {
   "cell_type": "code",
   "execution_count": 46,
   "metadata": {},
   "outputs": [
    {
     "name": "stdout",
     "output_type": "stream",
     "text": [
      "The max length of the fish is 17 inches.\n"
     ]
    }
   ],
   "source": [
    "fish_size =[12,13,8,10,17]\n",
    "print(f'The max length of the fish is {max(fish_size)} inches.')"
   ]
  },
  {
   "cell_type": "code",
   "execution_count": 47,
   "metadata": {},
   "outputs": [
    {
     "name": "stdout",
     "output_type": "stream",
     "text": [
      "The max length of the fish is 17 inches.\n"
     ]
    }
   ],
   "source": [
    "#Another method\n",
    "fish_size.sort()\n",
    "# if fish_size.reverse()is used -> fish_size[0] will be used\n",
    "print(f'The max length of the fish is {fish_size[-1]} inches.')"
   ]
  },
  {
   "cell_type": "code",
   "execution_count": null,
   "metadata": {},
   "outputs": [],
   "source": []
  }
 ],
 "metadata": {
  "kernelspec": {
   "display_name": "Python 3",
   "language": "python",
   "name": "python3"
  },
  "language_info": {
   "codemirror_mode": {
    "name": "ipython",
    "version": 3
   },
   "file_extension": ".py",
   "mimetype": "text/x-python",
   "name": "python",
   "nbconvert_exporter": "python",
   "pygments_lexer": "ipython3",
   "version": "3.7.4"
  }
 },
 "nbformat": 4,
 "nbformat_minor": 2
}
