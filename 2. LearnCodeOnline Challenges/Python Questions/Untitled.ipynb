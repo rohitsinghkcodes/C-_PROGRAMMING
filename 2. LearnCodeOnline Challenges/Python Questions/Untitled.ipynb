{
 "cells": [
  {
   "cell_type": "markdown",
   "metadata": {},
   "source": [
    "# Challenge 11"
   ]
  },
  {
   "cell_type": "code",
   "execution_count": 4,
   "metadata": {},
   "outputs": [
    {
     "name": "stdout",
     "output_type": "stream",
     "text": [
      "time taken by Dan to watch these 2 movies is 3.5 hours.\n"
     ]
    }
   ],
   "source": [
    "movie1Time = 100\n",
    "movie2Time = 110\n",
    "print(f'time taken by Dan to watch these 2 movies is {(movie1Time+movie2Time)/60} hours.')"
   ]
  },
  {
   "cell_type": "markdown",
   "metadata": {},
   "source": [
    "# Challenge 12"
   ]
  },
  {
   "cell_type": "code",
   "execution_count": 11,
   "metadata": {},
   "outputs": [],
   "source": [
    "def ratio(a,b):\n",
    "    if b==0:\n",
    "        return a;\n",
    "    return ratio(b,a%b)"
   ]
  },
  {
   "cell_type": "code",
   "execution_count": 18,
   "metadata": {},
   "outputs": [
    {
     "name": "stdout",
     "output_type": "stream",
     "text": [
      "Enter val of a: 2\n",
      "Enter val of b: 8\n",
      "The ratio is- 1:4\n"
     ]
    }
   ],
   "source": [
    "a=int(input('Enter val of a: '))\n",
    "b=int(input('Enter val of b: '))\n",
    "r = ratio(a,b)\n",
    "print(f'The ratio is- {int(a/r)}:{int(b/r)}')"
   ]
  },
  {
   "cell_type": "code",
   "execution_count": null,
   "metadata": {},
   "outputs": [],
   "source": []
  },
  {
   "cell_type": "code",
   "execution_count": null,
   "metadata": {},
   "outputs": [],
   "source": []
  }
 ],
 "metadata": {
  "kernelspec": {
   "display_name": "Python 3",
   "language": "python",
   "name": "python3"
  },
  "language_info": {
   "codemirror_mode": {
    "name": "ipython",
    "version": 3
   },
   "file_extension": ".py",
   "mimetype": "text/x-python",
   "name": "python",
   "nbconvert_exporter": "python",
   "pygments_lexer": "ipython3",
   "version": "3.7.4"
  }
 },
 "nbformat": 4,
 "nbformat_minor": 2
}
