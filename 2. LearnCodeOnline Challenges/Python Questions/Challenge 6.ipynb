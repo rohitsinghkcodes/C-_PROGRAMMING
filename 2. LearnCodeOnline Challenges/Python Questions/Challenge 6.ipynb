{
 "cells": [
  {
   "cell_type": "code",
   "execution_count": 50,
   "metadata": {},
   "outputs": [],
   "source": [
    "f = int(input('Enter the free size: '))\n",
    "u = int(input('Enter the used size: '))\n",
    "o = int(input('Enter the size to be deleted: '))\n",
    "n = int(input('Enter the size to be added: '))"
   ]
  },
  {
   "cell_type": "code",
   "execution_count": 49,
   "metadata": {
    "tags": []
   },
   "outputs": [
    {
     "output_type": "stream",
     "name": "stdout",
     "text": "Free size available is 300 bytes\n"
    }
   ],
   "source": [
    "totalSize  = f+u\n",
    "CurrentUsed = u-o\n",
    "CurrentUsed+=n\n",
    "CurrentFreeDisk = totalSize-CurrentUsed\n",
    "print('Free size available is',CurrentFreeDisk,'bytes') "
   ]
  },
  {
   "cell_type": "code",
   "execution_count": null,
   "metadata": {},
   "outputs": [],
   "source": []
  }
 ],
 "metadata": {
  "language_info": {
   "codemirror_mode": {
    "name": "ipython",
    "version": 3
   },
   "file_extension": ".py",
   "mimetype": "text/x-python",
   "name": "python",
   "nbconvert_exporter": "python",
   "pygments_lexer": "ipython3",
   "version": "3.7.4-final"
  },
  "orig_nbformat": 2,
  "kernelspec": {
   "name": "python37464bitbaseconda6ca9bee52454452696fabc64e2eb0d70",
   "display_name": "Python 3.7.4 64-bit ('base': conda)"
  }
 },
 "nbformat": 4,
 "nbformat_minor": 2
}