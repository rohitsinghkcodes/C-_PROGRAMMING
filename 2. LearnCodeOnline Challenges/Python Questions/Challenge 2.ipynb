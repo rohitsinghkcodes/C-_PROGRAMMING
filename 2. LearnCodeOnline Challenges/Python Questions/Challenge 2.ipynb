{
 "cells": [
  {
   "cell_type": "code",
   "execution_count": 38,
   "metadata": {},
   "outputs": [
    {
     "name": "stdout",
     "output_type": "stream",
     "text": [
      "Enter the no: 10\n",
      "        * *\n",
      "        * *\n",
      "      * * * *\n",
      "      * * * *\n",
      "    * * * * * *\n",
      "    * * * * * *\n",
      "  * * * * * * * *\n",
      "  * * * * * * * *\n",
      "* * * * * * * * * *\n",
      "* * * * * * * * * *\n"
     ]
    }
   ],
   "source": [
    "n = int(input('Enter the no: '))\n",
    "for i in range(1,n+1):\n",
    "    \n",
    "    k = i+1 if(i%2!=0) else i\n",
    "    \n",
    "    for g in range(k,n):\n",
    "        if g>=k:\n",
    "            print(end=\" \")\n",
    "    for j in range(0,k):\n",
    "        if j==k-1:\n",
    "            print(\"*\")\n",
    "        else:\n",
    "            print(\"*\",end=' ')"
   ]
  },
  {
   "cell_type": "code",
   "execution_count": 50,
   "metadata": {},
   "outputs": [
    {
     "name": "stdout",
     "output_type": "stream",
     "text": [
      "        * *\n",
      "        * *\n",
      "      * * * *\n",
      "      * * * *\n",
      "    * * * * * *\n",
      "    * * * * * *\n",
      "  * * * * * * * *\n",
      "  * * * * * * * *\n",
      "* * * * * * * * * *\n",
      "* * * * * * * * * *\n"
     ]
    }
   ],
   "source": [
    "# n = int(input('Enter the no: '))\n",
    "for i in range(1,11):\n",
    "    l = i+1 if(i%2!=0) else i\n",
    "    for m in range(l,10):\n",
    "        print(end=\" \")\n",
    "    for k in range(0,l):\n",
    "        if k == l-1:\n",
    "            print('*')\n",
    "        else:\n",
    "            print('*',end=' ')"
   ]
  },
  {
   "cell_type": "code",
   "execution_count": null,
   "metadata": {},
   "outputs": [],
   "source": []
  }
 ],
 "metadata": {
  "kernelspec": {
   "display_name": "Python 3",
   "language": "python",
   "name": "python3"
  },
  "language_info": {
   "codemirror_mode": {
    "name": "ipython",
    "version": 3
   },
   "file_extension": ".py",
   "mimetype": "text/x-python",
   "name": "python",
   "nbconvert_exporter": "python",
   "pygments_lexer": "ipython3",
   "version": "3.7.4"
  }
 },
 "nbformat": 4,
 "nbformat_minor": 2
}
