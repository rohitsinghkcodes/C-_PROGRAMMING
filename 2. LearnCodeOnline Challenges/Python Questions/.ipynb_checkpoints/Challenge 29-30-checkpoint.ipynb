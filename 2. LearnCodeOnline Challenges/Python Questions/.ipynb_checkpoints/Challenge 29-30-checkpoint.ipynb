{
 "cells": [
  {
   "cell_type": "markdown",
   "metadata": {},
   "source": [
    "# Challenge 29"
   ]
  },
  {
   "cell_type": "code",
   "execution_count": 1,
   "metadata": {},
   "outputs": [
    {
     "name": "stdout",
     "output_type": "stream",
     "text": [
      "Enter the distance: 8000\n",
      "Enter the time: \n",
      "Hours: 4\n",
      "Minutes: 5\n",
      "Seconds: 23\n",
      "The speed in miles pe hour is: 1215.4781498335938\n"
     ]
    }
   ],
   "source": [
    "d = int(input('Enter the distance: '))\n",
    "print('Enter the time: ')\n",
    "h = int(input('Hours: '))\n",
    "m = int(input('Minutes: '))\n",
    "s= int(input('Seconds: '))\n",
    "t = h+(m/60)+(s/3600)\n",
    "miles = d*(0.621371)\n",
    "print(f'The speed in miles pe hour is: {miles/t}')"
   ]
  },
  {
   "cell_type": "markdown",
   "metadata": {},
   "source": [
    "# CHallenge 30"
   ]
  },
  {
   "cell_type": "code",
   "execution_count": 3,
   "metadata": {},
   "outputs": [
    {
     "name": "stdout",
     "output_type": "stream",
     "text": [
      "Enter val1:5\n",
      "Enter val2:8\n",
      "The sum is: 13\n",
      "The suntraction is: -3\n",
      "The difference is:  3\n",
      "The max value is: 8\n",
      "The min value is: 5\n"
     ]
    }
   ],
   "source": [
    "a = int(input('Enter val1:'))\n",
    "b = int(input('Enter val2:'))\n",
    "print(f'The sum is: {a+b}\\nThe suntraction is: {a-b}\\nThe difference is:  {abs(a-b)}\\nThe max value is: {max(a,b)}\\nThe min value is: {min(a,b)}')"
   ]
  },
  {
   "cell_type": "code",
   "execution_count": null,
   "metadata": {},
   "outputs": [],
   "source": []
  }
 ],
 "metadata": {
  "kernelspec": {
   "display_name": "Python 3",
   "language": "python",
   "name": "python3"
  },
  "language_info": {
   "codemirror_mode": {
    "name": "ipython",
    "version": 3
   },
   "file_extension": ".py",
   "mimetype": "text/x-python",
   "name": "python",
   "nbconvert_exporter": "python",
   "pygments_lexer": "ipython3",
   "version": "3.7.4"
  }
 },
 "nbformat": 4,
 "nbformat_minor": 2
}
