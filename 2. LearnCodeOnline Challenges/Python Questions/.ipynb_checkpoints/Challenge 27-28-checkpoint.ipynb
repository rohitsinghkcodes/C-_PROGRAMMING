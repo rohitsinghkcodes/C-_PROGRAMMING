{
 "cells": [
  {
   "cell_type": "markdown",
   "metadata": {},
   "source": [
    " # Challenge 27"
   ]
  },
  {
   "cell_type": "code",
   "execution_count": 2,
   "metadata": {},
   "outputs": [
    {
     "name": "stdout",
     "output_type": "stream",
     "text": [
      "Enter the length in cm: 512\n",
      "The length 512cm in\n",
      "inches: 201.57480314960628 inches\n",
      "meter: 5.12 m\n",
      "kilometers: 0.00512 km\n"
     ]
    }
   ],
   "source": [
    "l = int(input('Enter the length in cm: '))\n",
    "print(f'The length {l}cm in\\ninches: {l/2.54} inches\\nmeter: {l/100} m\\nkilometers: {l/100000} km')"
   ]
  },
  {
   "cell_type": "markdown",
   "metadata": {},
   "source": [
    "# Challenge 28"
   ]
  },
  {
   "cell_type": "code",
   "execution_count": 5,
   "metadata": {},
   "outputs": [
    {
     "name": "stdout",
     "output_type": "stream",
     "text": [
      "Enter Daves age in minutes: 13772160\n",
      "Daave is 26 years old.\n"
     ]
    }
   ],
   "source": [
    "age = int(input('Enter Daves age in minutes: '))\n",
    "print(f'Daave is {int(age/(365*24*60))} years old.')"
   ]
  },
  {
   "cell_type": "code",
   "execution_count": null,
   "metadata": {},
   "outputs": [],
   "source": []
  }
 ],
 "metadata": {
  "kernelspec": {
   "display_name": "Python 3",
   "language": "python",
   "name": "python3"
  },
  "language_info": {
   "codemirror_mode": {
    "name": "ipython",
    "version": 3
   },
   "file_extension": ".py",
   "mimetype": "text/x-python",
   "name": "python",
   "nbconvert_exporter": "python",
   "pygments_lexer": "ipython3",
   "version": "3.7.4"
  }
 },
 "nbformat": 4,
 "nbformat_minor": 2
}
