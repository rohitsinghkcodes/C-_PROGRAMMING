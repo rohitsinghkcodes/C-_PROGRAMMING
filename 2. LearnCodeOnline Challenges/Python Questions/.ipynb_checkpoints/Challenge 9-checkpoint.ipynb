{
 "cells": [
  {
   "cell_type": "markdown",
   "metadata": {},
   "source": [
    "# Challenge 9"
   ]
  },
  {
   "cell_type": "code",
   "execution_count": 1,
   "metadata": {},
   "outputs": [],
   "source": [
    "sweat = 68\n",
    "comp = 75\n",
    "brac = 43\n",
    "rebatePrice = 10"
   ]
  },
  {
   "cell_type": "code",
   "execution_count": 2,
   "metadata": {},
   "outputs": [
    {
     "name": "stdout",
     "output_type": "stream",
     "text": [
      "Enter the no of sweaters purchase: 3\n",
      "Enter the no of computers purchased: 1\n",
      "Enter the no of braclets purchased: 2\n",
      "Enter the no of brac returned:1\n"
     ]
    }
   ],
   "source": [
    "nos = int(input('Enter the no of sweaters purchase: '))\n",
    "noc = int(input('Enter the no of computers purchased: '))\n",
    "nob = int(input('Enter the no of braclets purchased: '))\n",
    "retBrac = int(input('Enter the no of brac returned:'))"
   ]
  },
  {
   "cell_type": "code",
   "execution_count": 4,
   "metadata": {},
   "outputs": [
    {
     "name": "stdout",
     "output_type": "stream",
     "text": [
      "Total cost of the gifts is: 312\n"
     ]
    }
   ],
   "source": [
    "#calculation\n",
    "print('Total cost of the gifts is:',(nos*sweat)+(noc*comp)+(nob*brac)-rebatePrice-(retBrac*brac))\n"
   ]
  },
  {
   "cell_type": "code",
   "execution_count": null,
   "metadata": {},
   "outputs": [],
   "source": []
  },
  {
   "cell_type": "code",
   "execution_count": null,
   "metadata": {},
   "outputs": [],
   "source": []
  }
 ],
 "metadata": {
  "kernelspec": {
   "display_name": "Python 3",
   "language": "python",
   "name": "python3"
  },
  "language_info": {
   "codemirror_mode": {
    "name": "ipython",
    "version": 3
   },
   "file_extension": ".py",
   "mimetype": "text/x-python",
   "name": "python",
   "nbconvert_exporter": "python",
   "pygments_lexer": "ipython3",
   "version": "3.7.4"
  }
 },
 "nbformat": 4,
 "nbformat_minor": 2
}
