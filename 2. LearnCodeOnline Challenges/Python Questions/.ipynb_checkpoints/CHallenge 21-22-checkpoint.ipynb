{
 "cells": [
  {
   "cell_type": "markdown",
   "metadata": {},
   "source": [
    "# Challenege 21"
   ]
  },
  {
   "cell_type": "code",
   "execution_count": 12,
   "metadata": {},
   "outputs": [
    {
     "name": "stdout",
     "output_type": "stream",
     "text": [
      "Enter time in hours(1-12): 11\n",
      "Enter time in min(00-59): 5\n",
      "The angle is 60.0 degrees\n"
     ]
    }
   ],
   "source": [
    "bitTime = 360/12\n",
    "hour = int(input('Enter time in hours(1-12): '))\n",
    "minu = int(input('Enter time in min(00-59): '))\n",
    "hourHand = hour\n",
    "minHand = minu/5\n",
    "degrees = abs(hourHand-minHand)*bitTime\n",
    "if(degrees>180):\n",
    "    degrees = 360-degrees\n",
    "print(f'The angle is {degrees} degrees')"
   ]
  },
  {
   "cell_type": "markdown",
   "metadata": {},
   "source": [
    "# Challenge 22"
   ]
  },
  {
   "cell_type": "code",
   "execution_count": 20,
   "metadata": {},
   "outputs": [
    {
     "name": "stdout",
     "output_type": "stream",
     "text": [
      "Enter the year:2020\n",
      "2020 is a Leap Year\n"
     ]
    }
   ],
   "source": [
    "n = int(input('Enter the year:'))\n",
    "if n%400 ==0 or n%100==0 or n%4==0:\n",
    "    print(f'{n} is a Leap Year')\n",
    "else:\n",
    "    print(f'{n} is not a Leap Year')"
   ]
  }
 ],
 "metadata": {
  "kernelspec": {
   "display_name": "Python 3",
   "language": "python",
   "name": "python3"
  },
  "language_info": {
   "codemirror_mode": {
    "name": "ipython",
    "version": 3
   },
   "file_extension": ".py",
   "mimetype": "text/x-python",
   "name": "python",
   "nbconvert_exporter": "python",
   "pygments_lexer": "ipython3",
   "version": "3.7.4"
  }
 },
 "nbformat": 4,
 "nbformat_minor": 2
}
