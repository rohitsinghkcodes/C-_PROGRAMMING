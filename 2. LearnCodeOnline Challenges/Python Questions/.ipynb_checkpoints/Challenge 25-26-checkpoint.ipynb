{
 "cells": [
  {
   "cell_type": "markdown",
   "metadata": {},
   "source": [
    "# Challenge 25"
   ]
  },
  {
   "cell_type": "code",
   "execution_count": 23,
   "metadata": {},
   "outputs": [],
   "source": [
    "def fun(pas):\n",
    "    n=0\n",
    "    u=0\n",
    "    l=0\n",
    "    s=0\n",
    "    print(len(pas))\n",
    "    if(len(pas)>=6 and len(pas)<=20):\n",
    "        for i in pas:\n",
    "            if i.isdigit():\n",
    "                n+=1\n",
    "            elif i.isupper():\n",
    "                u+=1\n",
    "            elif i.islower():\n",
    "                l+=1\n",
    "            else:\n",
    "                s+=1\n",
    "    return (n>=1 and u>=1 and l>=1 and s>=1)\n",
    "        "
   ]
  },
  {
   "cell_type": "code",
   "execution_count": 28,
   "metadata": {},
   "outputs": [
    {
     "name": "stdout",
     "output_type": "stream",
     "text": [
      "Enter the password: Rohit#457845669854125\n",
      "21\n"
     ]
    },
    {
     "data": {
      "text/plain": [
       "False"
      ]
     },
     "execution_count": 28,
     "metadata": {},
     "output_type": "execute_result"
    }
   ],
   "source": [
    "pas = input('Enter the password: ')\n",
    "fun(pas)"
   ]
  },
  {
   "cell_type": "markdown",
   "metadata": {},
   "source": [
    "# Challenge 26"
   ]
  },
  {
   "cell_type": "code",
   "execution_count": 30,
   "metadata": {},
   "outputs": [
    {
     "name": "stdout",
     "output_type": "stream",
     "text": [
      "Enter the temp in celcius: 35\n",
      "The temp in fahrenheit is 95.0 degrees\n"
     ]
    }
   ],
   "source": [
    "c = int(input('Enter the temp in celcius: '))\n",
    "print(f'The temp in fahrenheit is {((9/5)*c)+32} degrees')"
   ]
  },
  {
   "cell_type": "code",
   "execution_count": null,
   "metadata": {},
   "outputs": [],
   "source": []
  }
 ],
 "metadata": {
  "kernelspec": {
   "display_name": "Python 3",
   "language": "python",
   "name": "python3"
  },
  "language_info": {
   "codemirror_mode": {
    "name": "ipython",
    "version": 3
   },
   "file_extension": ".py",
   "mimetype": "text/x-python",
   "name": "python",
   "nbconvert_exporter": "python",
   "pygments_lexer": "ipython3",
   "version": "3.7.4"
  }
 },
 "nbformat": 4,
 "nbformat_minor": 2
}
