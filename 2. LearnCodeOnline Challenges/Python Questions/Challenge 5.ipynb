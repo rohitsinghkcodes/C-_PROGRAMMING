{
 "cells": [
  {
   "cell_type": "code",
   "execution_count": 1,
   "metadata": {},
   "outputs": [],
   "source": [
    "#BubbleSort"
   ]
  },
  {
   "cell_type": "code",
   "execution_count": 18,
   "metadata": {
    "tags": []
   },
   "outputs": [
    {
     "output_type": "stream",
     "name": "stdout",
     "text": "Her Best Tims Is: 52\n"
    }
   ],
   "source": [
    "lst = [66,57,54,53,64,52,59]\n",
    "lst.sort()\n",
    "print(f'Her Best Tims Is: {lst[0]}')"
   ]
  },
  {
   "cell_type": "code",
   "execution_count": 7,
   "metadata": {},
   "outputs": [
    {
     "output_type": "execute_result",
     "data": {
      "text/plain": "[66, 64, 59, 57, 54, 53, 52]"
     },
     "metadata": {},
     "execution_count": 7
    }
   ],
   "source": [
    "lst"
   ]
  },
  {
   "cell_type": "code",
   "execution_count": 17,
   "metadata": {
    "tags": []
   },
   "outputs": [
    {
     "output_type": "stream",
     "name": "stdout",
     "text": "Her Best Time Is: 52\n"
    }
   ],
   "source": [
    "#Classic Method\n",
    "lst2 = [66,57,54,53,64,52,59]\n",
    "for x in range(len(lst2)):\n",
    "    for y in range(0,len(lst2)-1):\n",
    "        if lst[y]>lst[y+1]:\n",
    "            lst[y],lst[y+1] = lst[y+1],lst[y]\n",
    "\n",
    "print(f'Her Best Time Is: {lst[0]}')"
   ]
  },
  {
   "cell_type": "code",
   "execution_count": null,
   "metadata": {},
   "outputs": [],
   "source": []
  }
 ],
 "metadata": {
  "language_info": {
   "codemirror_mode": {
    "name": "ipython",
    "version": 3
   },
   "file_extension": ".py",
   "mimetype": "text/x-python",
   "name": "python",
   "nbconvert_exporter": "python",
   "pygments_lexer": "ipython3",
   "version": "3.7.4-final"
  },
  "orig_nbformat": 2,
  "kernelspec": {
   "name": "python37464bitbaseconda6ca9bee52454452696fabc64e2eb0d70",
   "display_name": "Python 3.7.4 64-bit ('base': conda)"
  }
 },
 "nbformat": 4,
 "nbformat_minor": 2
}