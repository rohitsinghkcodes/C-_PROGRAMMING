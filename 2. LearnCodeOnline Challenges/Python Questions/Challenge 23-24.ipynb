{
 "cells": [
  {
   "cell_type": "markdown",
   "metadata": {},
   "source": [
    "# Challenge 23"
   ]
  },
  {
   "cell_type": "code",
   "execution_count": 39,
   "metadata": {},
   "outputs": [
    {
     "name": "stdout",
     "output_type": "stream",
     "text": [
      "Enter the no: 49\n"
     ]
    },
    {
     "data": {
      "text/plain": [
       "'110001'"
      ]
     },
     "execution_count": 39,
     "metadata": {},
     "output_type": "execute_result"
    }
   ],
   "source": [
    "n = int(input('Enter the no: '))\n",
    "binVal = ''\n",
    "while n!=1:\n",
    "    binVal += str(n%2)\n",
    "    n=n//2\n",
    "'1'+binVal[::-1]"
   ]
  },
  {
   "cell_type": "code",
   "execution_count": 40,
   "metadata": {},
   "outputs": [
    {
     "name": "stdout",
     "output_type": "stream",
     "text": [
      "Enter the no: 49\n"
     ]
    },
    {
     "data": {
      "text/plain": [
       "'110001'"
      ]
     },
     "execution_count": 40,
     "metadata": {},
     "output_type": "execute_result"
    }
   ],
   "source": [
    "#Another Method\n",
    "n = int(input('Enter the no: '))\n",
    "v = str(bin(n))[2:]\n",
    "v"
   ]
  },
  {
   "cell_type": "markdown",
   "metadata": {},
   "source": [
    "# Challenge 24"
   ]
  },
  {
   "cell_type": "code",
   "execution_count": 6,
   "metadata": {},
   "outputs": [
    {
     "name": "stdout",
     "output_type": "stream",
     "text": [
      "Enter j: 600\n",
      "Enter n: 1000\n",
      "MDC\n"
     ]
    }
   ],
   "source": [
    "j = int(input('Enter j: '))\n",
    "n = int(input('Enter n: '))\n",
    "sum = j+n\n",
    "no =[1,4,5,9,10,40,50,90,100,400,500,900,1000]\n",
    "romanval = [\"I\",\"IV\",\"V\",\"IX\",\"X\",\"XL\",\"L\",\"XC\",\"C\",\"CD\",\"D\",\"XM\",\"M\"]\n",
    "roman=''\n",
    "i=12\n",
    "while(sum!=0):\n",
    "    val = sum//no[i]\n",
    "    sum = sum%no[i]\n",
    "    while(val):\n",
    "        val-=1\n",
    "        roman+=romanval[i]\n",
    "    i-=1\n",
    "print(roman)"
   ]
  },
  {
   "cell_type": "code",
   "execution_count": null,
   "metadata": {},
   "outputs": [],
   "source": []
  }
 ],
 "metadata": {
  "kernelspec": {
   "display_name": "Python 3",
   "language": "python",
   "name": "python3"
  },
  "language_info": {
   "codemirror_mode": {
    "name": "ipython",
    "version": 3
   },
   "file_extension": ".py",
   "mimetype": "text/x-python",
   "name": "python",
   "nbconvert_exporter": "python",
   "pygments_lexer": "ipython3",
   "version": "3.7.4"
  }
 },
 "nbformat": 4,
 "nbformat_minor": 2
}
