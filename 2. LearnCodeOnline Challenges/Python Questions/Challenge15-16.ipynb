{
 "cells": [
  {
   "cell_type": "markdown",
   "metadata": {},
   "source": [
    "# Challenge 15"
   ]
  },
  {
   "cell_type": "code",
   "execution_count": 2,
   "metadata": {},
   "outputs": [
    {
     "name": "stdout",
     "output_type": "stream",
     "text": [
      "Enter the perc: 12\n",
      "Enter the amount spent on DVDs: 42\n",
      "The amount deposited is $ 308.0.\n"
     ]
    }
   ],
   "source": [
    "p = int(input('Enter the perc: '))\n",
    "amtDVD = int(input('Enter the amount spent on DVDs: '))\n",
    "print(f'The amount deposited is $ {((100-p)*amtDVD)/p}.')"
   ]
  },
  {
   "cell_type": "markdown",
   "metadata": {},
   "source": [
    "# Challenge 16"
   ]
  },
  {
   "cell_type": "code",
   "execution_count": 7,
   "metadata": {},
   "outputs": [
    {
     "name": "stdout",
     "output_type": "stream",
     "text": [
      "Enter a number: 9542\n",
      "The sum of digits of the ginven no is 20\n"
     ]
    }
   ],
   "source": [
    "n = int(input('Enter a number: '))\n",
    "sum=0\n",
    "while n>0:\n",
    "    x=n%10\n",
    "    n/=10\n",
    "    sum+=int(x)\n",
    "print(f'The sum of digits of the ginven no is {sum}')"
   ]
  },
  {
   "cell_type": "code",
   "execution_count": null,
   "metadata": {},
   "outputs": [],
   "source": []
  }
 ],
 "metadata": {
  "kernelspec": {
   "display_name": "Python 3",
   "language": "python",
   "name": "python3"
  },
  "language_info": {
   "codemirror_mode": {
    "name": "ipython",
    "version": 3
   },
   "file_extension": ".py",
   "mimetype": "text/x-python",
   "name": "python",
   "nbconvert_exporter": "python",
   "pygments_lexer": "ipython3",
   "version": "3.7.4"
  }
 },
 "nbformat": 4,
 "nbformat_minor": 2
}
